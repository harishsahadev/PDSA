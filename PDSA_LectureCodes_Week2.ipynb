{
  "nbformat": 4,
  "nbformat_minor": 0,
  "metadata": {
    "colab": {
      "provenance": [],
      "collapsed_sections": [],
      "authorship_tag": "ABX9TyNCakekYEKf/vpAaf83euzm",
      "include_colab_link": true
    },
    "kernelspec": {
      "name": "python3",
      "display_name": "Python 3"
    },
    "language_info": {
      "name": "python"
    }
  },
  "cells": [
    {
      "cell_type": "markdown",
      "metadata": {
        "id": "view-in-github",
        "colab_type": "text"
      },
      "source": [
        "<a href=\"https://colab.research.google.com/github/harishsahadev/PDSA_LectureCodes/blob/main/PDSA_LectureCodes_Week2.ipynb\" target=\"_parent\"><img src=\"https://colab.research.google.com/assets/colab-badge.svg\" alt=\"Open In Colab\"/></a>"
      ]
    },
    {
      "cell_type": "markdown",
      "source": [
        "# L2.3"
      ],
      "metadata": {
        "id": "UrlrYH0QMj7A"
      }
    },
    {
      "cell_type": "markdown",
      "source": [
        "## Example 1\n",
        "### Finding max element in a list\n",
        "- Always takes n steps\n",
        "- Overall time is $O(n)$"
      ],
      "metadata": {
        "id": "5OBF4DiCMomg"
      }
    },
    {
      "cell_type": "code",
      "execution_count": null,
      "metadata": {
        "id": "zwKKG8LeI8m9"
      },
      "outputs": [],
      "source": [
        "def maxElement(L):\n",
        "  maxval = L[0]\n",
        "  for i in range(len(L)):\n",
        "    if L[i] > maxval:\n",
        "      maxval = L[i]\n",
        "  return maxval"
      ]
    },
    {
      "cell_type": "code",
      "source": [
        "maxElement([1,2,3,4,124,4134,434,1,23,43224,123,214412])"
      ],
      "metadata": {
        "colab": {
          "base_uri": "https://localhost:8080/"
        },
        "id": "EbFyU4gRMObk",
        "outputId": "20fb09ae-bfca-4b68-fae9-08d1ee76cd1e"
      },
      "execution_count": null,
      "outputs": [
        {
          "output_type": "execute_result",
          "data": {
            "text/plain": [
              "214412"
            ]
          },
          "metadata": {},
          "execution_count": 6
        }
      ]
    },
    {
      "cell_type": "markdown",
      "source": [
        "## Example 2\n",
        "### Check whether a list contains duplicates\n",
        " - n is size of the list\n",
        " - Time is $(n-1)+(n-2)+...+1=n(n-1)/2$\n",
        " - Overall time is $O(n)$"
      ],
      "metadata": {
        "id": "QEpPciKaugv1"
      }
    },
    {
      "cell_type": "code",
      "source": [
        "def noDuplicates(L):\n",
        "  for i in range(len(L)):\n",
        "    for j in range(i+1, len(L)):\n",
        "      if L[i] == L[j]:\n",
        "        return False\n",
        "  return True"
      ],
      "metadata": {
        "id": "J6GePN3OOQ6v"
      },
      "execution_count": null,
      "outputs": []
    },
    {
      "cell_type": "code",
      "source": [
        "noDuplicates([1,2,3,4,124,4134,434,1,23,43224,123,214412])"
      ],
      "metadata": {
        "id": "f_6rINRLvFxp",
        "outputId": "19b44ee3-0c57-43d0-94ab-fd871781f47e",
        "colab": {
          "base_uri": "https://localhost:8080/"
        }
      },
      "execution_count": null,
      "outputs": [
        {
          "output_type": "execute_result",
          "data": {
            "text/plain": [
              "False"
            ]
          },
          "metadata": {},
          "execution_count": 8
        }
      ]
    },
    {
      "cell_type": "markdown",
      "source": [
        "## Example 3\n",
        "### Matrix Multiplication\n",
        "- Input matrix of size: $m \\times n$, $p \\times q$\n",
        "- Outplu matrix: $m \\times q$\n",
        "- 3 nested loops\n",
        "- Overall time: $O(mnq)$ => $O(n^3)$ if both are $n \\times n$ (both square matrices)"
      ],
      "metadata": {
        "id": "xr-EqdyK-Enu"
      }
    },
    {
      "cell_type": "code",
      "source": [
        "def matrixMultiply(A, B):\n",
        "  (m, n, p, q) = (len(A), len(A[0]), len(B), len(B[0]))\n",
        "  if n != p:\n",
        "    return \"Matrix multiplication not possible\"\n",
        "  \n",
        "  C = [[ 0 for i in range(q)]\n",
        "       for j in range(m)]\n",
        "  try:\n",
        "    for i in range(m):\n",
        "      for j in range(q):\n",
        "        for k in range(p):\n",
        "          C[i][j] = C[i][j] + A[i][k]*B[k][j]\n",
        "  except IndexError:\n",
        "    print( \"Invalid input\")\n",
        "    return None\n",
        "  return C"
      ],
      "metadata": {
        "id": "l5V3IIMt4yzA"
      },
      "execution_count": null,
      "outputs": []
    },
    {
      "cell_type": "code",
      "source": [
        "A = [[1, 2, 3], [4, 5, 6]]\n",
        "B = [[7, 8], [9, 10], [11, 12]]\n",
        "matrixMultiply(A, B)"
      ],
      "metadata": {
        "colab": {
          "base_uri": "https://localhost:8080/"
        },
        "id": "MUqeIOW558EZ",
        "outputId": "0c3a9aa8-9252-4c87-b9c7-716030b26cf0"
      },
      "execution_count": null,
      "outputs": [
        {
          "output_type": "execute_result",
          "data": {
            "text/plain": [
              "[[58, 64], [139, 154]]"
            ]
          },
          "metadata": {},
          "execution_count": 10
        }
      ]
    },
    {
      "cell_type": "markdown",
      "source": [
        "## Example 4\n",
        "### Number of bits in binary representation of n\n",
        "- $log(n)$ steps for $n$ to reach $1$\n",
        "- For number theoretic problems, input size is the number of digits\n",
        "- This algorithm is linear in input size"
      ],
      "metadata": {
        "id": "U_R40rR5ERcm"
      }
    },
    {
      "cell_type": "code",
      "source": [
        "def numberOfBits(n):\n",
        "  count = 1\n",
        "  while n > 1:\n",
        "    count += 1\n",
        "    n = n // 2\n",
        "  return count"
      ],
      "metadata": {
        "id": "cQhJNtAeDsWQ"
      },
      "execution_count": null,
      "outputs": []
    },
    {
      "cell_type": "code",
      "source": [
        "numberOfBits(1001)"
      ],
      "metadata": {
        "colab": {
          "base_uri": "https://localhost:8080/"
        },
        "id": "x5QGBmgUD3i7",
        "outputId": "21bc99e4-7a9a-4301-be87-734e37a63ca6"
      },
      "execution_count": null,
      "outputs": [
        {
          "output_type": "execute_result",
          "data": {
            "text/plain": [
              "10"
            ]
          },
          "metadata": {},
          "execution_count": 18
        }
      ]
    },
    {
      "cell_type": "markdown",
      "source": [
        "# L2.4"
      ],
      "metadata": {
        "id": "UTMZQeyO8n2_"
      }
    },
    {
      "cell_type": "markdown",
      "source": [
        "## Search Problems"
      ],
      "metadata": {
        "id": "498VpUeO8t1S"
      }
    },
    {
      "cell_type": "markdown",
      "source": [
        "## Naive Search\n",
        "- Scans the entire list\n",
        "- Input size $n$, the length of the list\n",
        "- $O(n)$"
      ],
      "metadata": {
        "id": "8LuxEvHn80WZ"
      }
    },
    {
      "cell_type": "code",
      "source": [
        "def naiveSearch(v, l):\n",
        "  for x in l:\n",
        "    if v == x:\n",
        "      return True\n",
        "  return False"
      ],
      "metadata": {
        "id": "mhETO5pF9HA6"
      },
      "execution_count": null,
      "outputs": []
    },
    {
      "cell_type": "code",
      "source": [
        "naiveSearch(5, [1, 2, 4, 6363, 1324, 345])"
      ],
      "metadata": {
        "colab": {
          "base_uri": "https://localhost:8080/"
        },
        "id": "eze3l4jV9RTk",
        "outputId": "0c2d505e-38a2-476d-8d2e-45f93eeaa255"
      },
      "execution_count": null,
      "outputs": [
        {
          "output_type": "execute_result",
          "data": {
            "text/plain": [
              "False"
            ]
          },
          "metadata": {},
          "execution_count": 2
        }
      ]
    },
    {
      "cell_type": "markdown",
      "source": [
        "## Binary Search\n",
        "- Searching a sorted list (ascending order)\n",
        "- Compare $v$ with the midpoint of $l$ \n",
        "  - If midpoint is $v$, the value is found\n",
        "  - If $v$ less than midpoint, search the first half\n",
        "  - If $v$ greater than midpoint, search the second half\n",
        "  - Stop when the interval to search becomes empty\n",
        "- $O(log(n))$ steps\n",
        "- But due to use of slicing, this implementation takes O(n) time"
      ],
      "metadata": {
        "id": "H1B7piYv9bk1"
      }
    },
    {
      "cell_type": "code",
      "source": [
        "def binarysearch(l, v):\n",
        "  if l == []:\n",
        "    return False\n",
        "  \n",
        "  m = len(l)//2\n",
        "\n",
        "  if v == l[m]:\n",
        "    return True\n",
        "\n",
        "  if v < l[m]:\n",
        "    return binarysearch(v, l[:m])\n",
        "  else:\n",
        "    return binarysearch(v, l[m+1:])"
      ],
      "metadata": {
        "id": "AngvrzfQ-aPX"
      },
      "execution_count": null,
      "outputs": []
    },
    {
      "cell_type": "code",
      "source": [
        "l = [5, 1, 2, 4, 6363, 1324, 345]\n",
        "l.sort()\n",
        "binarysearch(l, 5)"
      ],
      "metadata": {
        "colab": {
          "base_uri": "https://localhost:8080/"
        },
        "id": "0n7R0EWG-2uh",
        "outputId": "a207afc5-f815-4da0-af74-780c01ca8e4c"
      },
      "execution_count": null,
      "outputs": [
        {
          "output_type": "execute_result",
          "data": {
            "text/plain": [
              "True"
            ]
          },
          "metadata": {},
          "execution_count": 7
        }
      ]
    },
    {
      "cell_type": "markdown",
      "source": [
        "## Iterative Implementation of Binary Search"
      ],
      "metadata": {
        "id": "vGYdtrgLfRnT"
      }
    },
    {
      "cell_type": "code",
      "source": [
        "def binarysearch(L, v):\n",
        "    s = 0\n",
        "    e = len(L) - 1\n",
        "    m = 0\n",
        "    while s <= e: \n",
        "        m = s + (e - s) // 2\n",
        "        if L[m] < v:\n",
        "            s = m + 1\n",
        "        elif L[m] > v:\n",
        "            e = m - 1\n",
        "        else:\n",
        "            return True\n",
        "    return False"
      ],
      "metadata": {
        "id": "Uqim3LmzfiXj"
      },
      "execution_count": null,
      "outputs": []
    },
    {
      "cell_type": "markdown",
      "source": [
        "### Recursive Implementation without slicing of Binary Search"
      ],
      "metadata": {
        "id": "Yhmxb_cMfowf"
      }
    },
    {
      "cell_type": "code",
      "source": [
        "def binarysearch(L,v,s,e):\n",
        "    if e - s <= 0:\n",
        "        return(v==L[s])\n",
        "    mid = (e + s)//2\n",
        "    if v == L[mid]:\n",
        "        return(True)\n",
        "    if v < L[mid]:\n",
        "        return(binarysearch(L,v,s,mid-1))\n",
        "    else:\n",
        "        return(binarysearch(L,v,mid+1,e))"
      ],
      "metadata": {
        "id": "9gNVdTyFfrY2"
      },
      "execution_count": null,
      "outputs": []
    },
    {
      "cell_type": "markdown",
      "source": [
        "Analysis:\n",
        "- Best Case - $O(1)$\n",
        "- Average Case - $O(log(n))$\n",
        "- Worst Case - $O(log(n))$"
      ],
      "metadata": {
        "id": "806hZ90cgKXG"
      }
    },
    {
      "cell_type": "markdown",
      "source": [
        "# L2.5"
      ],
      "metadata": {
        "id": "pOWelxM8Sxp4"
      }
    },
    {
      "cell_type": "markdown",
      "source": [
        "## Selection Sort"
      ],
      "metadata": {
        "id": "mERrOqy7S1mx"
      }
    },
    {
      "cell_type": "code",
      "source": [
        "def SelectionSort(L):\n",
        "  n = len(L)\n",
        "  if n < 2:\n",
        "    return L\n",
        "  for i in range(n):\n",
        "    # Assume L[:i] is sorted\n",
        "    mpos = i\n",
        "    # mpos : position of min in L[i:]\n",
        "    for j in range(i+1, n):\n",
        "      if L[j] < L[mpos]:\n",
        "        mpos = j\n",
        "    # L[mpos] : smallest value in L[i:]\n",
        "    # Exchange L[mpos] and L[i]\n",
        "    (L[i], L[mpos]) = (L[mpos], L[i])\n",
        "    # Now L[:i+1] is sorted\n",
        "  return L"
      ],
      "metadata": {
        "id": "7Uqkyd52S4_D"
      },
      "execution_count": null,
      "outputs": []
    },
    {
      "cell_type": "code",
      "source": [
        "SelectionSort([5, 1, 2, 4, 6363, 1324, 345])"
      ],
      "metadata": {
        "colab": {
          "base_uri": "https://localhost:8080/"
        },
        "id": "wvVVHlvcT4jR",
        "outputId": "a8297328-0dbc-4900-d441-f343bd86310d"
      },
      "execution_count": null,
      "outputs": [
        {
          "output_type": "execute_result",
          "data": {
            "text/plain": [
              "[1, 2, 4, 5, 345, 1324, 6363]"
            ]
          },
          "metadata": {},
          "execution_count": 9
        }
      ]
    },
    {
      "cell_type": "markdown",
      "source": [
        "# L2.6"
      ],
      "metadata": {
        "id": "fR7x0kIUB5x1"
      }
    },
    {
      "cell_type": "markdown",
      "source": [
        "## Insertion Sort\n",
        "- Pick an element and **insert** it into the sorted list\n",
        "- Worst case complexity is $O(n^2)$\n",
        "  - Unlike selection sort, not all cases take time $n^2$\n",
        "  - If list is already sorted, **Insert** stops in 1 step \n",
        "  - Overall time can be close to $O(n)$"
      ],
      "metadata": {
        "id": "KYHCnNqFB_N4"
      }
    },
    {
      "cell_type": "markdown",
      "source": [
        "### Insertion Sort - Iterative formulation\n",
        "- Assume $L[:i]$ is sorted\n",
        "- Insert $L[i]$ in $L[:i]$\n",
        "- In place sort (updates same list)"
      ],
      "metadata": {
        "id": "GEG6YMMkCy2S"
      }
    },
    {
      "cell_type": "code",
      "source": [
        "def insertionSort(L):\n",
        "  n = len(L)\n",
        "  if n < 1:\n",
        "    return L\n",
        "  for i in range(n):\n",
        "    # Assume L[:i] is sorted\n",
        "    # Move L[i] to correct position in L[:i]\n",
        "    j = i\n",
        "    while (j > 0 and L[j] < L[j-1]):\n",
        "      (L[j], L[j-1]) = (L[j-1], L[j])\n",
        "      j = j-1\n",
        "    # Now L[:i+1] is sorted\n",
        "  return L"
      ],
      "metadata": {
        "id": "lPwf3b49DOIO"
      },
      "execution_count": null,
      "outputs": []
    },
    {
      "cell_type": "code",
      "source": [
        "insertionSort([5, 1, 2, 4, 6363, 1324, 345])"
      ],
      "metadata": {
        "colab": {
          "base_uri": "https://localhost:8080/"
        },
        "id": "NMTE7xf1D7Cq",
        "outputId": "bda2b120-92d4-42b0-f968-2e96715b60ad"
      },
      "execution_count": null,
      "outputs": [
        {
          "output_type": "execute_result",
          "data": {
            "text/plain": [
              "[1, 2, 4, 5, 345, 1324, 6363]"
            ]
          },
          "metadata": {},
          "execution_count": 11
        }
      ]
    },
    {
      "cell_type": "markdown",
      "source": [
        "### Insertion Sort - Recursive formulation\n",
        "- Inductively sort $L[:i]$\n",
        "- Insert $L[i]$ in $L[:i]$\n",
        "- Creates a new sorted list, does not disturb old list"
      ],
      "metadata": {
        "id": "obscOXaKEPkR"
      }
    },
    {
      "cell_type": "code",
      "source": [
        "def Insert(L, v):\n",
        "  n = len(L)\n",
        "  if n == 0:\n",
        "    return [v]\n",
        "  if v >= L[-1]:\n",
        "    return L + [v]\n",
        "  else:\n",
        "    return (Insert(L[:-1], v) + L[-1:])\n",
        "\n",
        "def ISort(L):\n",
        "  n = len(L)\n",
        "  if n < 1:\n",
        "    return L\n",
        "  L = Insert(ISort(L[:-1]), L[-1])\n",
        "  return L"
      ],
      "metadata": {
        "id": "_bxWhLtSEqj7"
      },
      "execution_count": null,
      "outputs": []
    },
    {
      "cell_type": "code",
      "source": [
        "ISort([5, 1, 2, 4, 6363, 1324, 345])"
      ],
      "metadata": {
        "colab": {
          "base_uri": "https://localhost:8080/"
        },
        "id": "HyPLy_MIFnFe",
        "outputId": "3828a8fb-2933-4d97-a32d-51a85af3843b"
      },
      "execution_count": null,
      "outputs": [
        {
          "output_type": "execute_result",
          "data": {
            "text/plain": [
              "[1, 2, 4, 5, 345, 1324, 6363]"
            ]
          },
          "metadata": {},
          "execution_count": 20
        }
      ]
    },
    {
      "cell_type": "markdown",
      "source": [
        "# L2.7"
      ],
      "metadata": {
        "id": "jdtOQygpRsXk"
      }
    },
    {
      "cell_type": "markdown",
      "source": [
        "## Merge Sort\n",
        "- *Divide and Conquer*\n",
        "  - Break up the problem into disjoint parts \n",
        "  - Solve each part separately\n",
        "  - Combine the solutions efficiently\n",
        "- Merge Function : Combine two sorted lists $A$ and $B$ into $C$\n",
        "  - If $A$ is empty, copy $B$ into $C$ \n",
        "  - If $B$ is empty, copy $A$ into $C$\n",
        "  - Otherwise, compare first elements of $A$ and $B$\n",
        "    - Move the smaller of the two to $C$\n",
        "  - Repeat till all elements of $A$ and $B$ have been moved\n",
        "- Mergesort function : \n",
        "  - To sort $A$ into $B$, both of length $n$ \n",
        "  - If $n ≤ 1$, nothing to be done \n",
        "  - Otherwise \n",
        "    - Sort $A[:n//2]$ into $L$ \n",
        "    - Sort $A[n//2:]$ into $R$\n",
        "    - Merge $L$ and $R$ into $B$"
      ],
      "metadata": {
        "id": "hNEqE-INRuXP"
      }
    },
    {
      "cell_type": "code",
      "source": [
        "def merge(A, B):\n",
        "  (m, n) = (len(A), len(B))\n",
        "  (C, i, j, k) = ([], 0, 0, 0)\n",
        "  while (k < m+n):\n",
        "    if i == m:\n",
        "      C.extend(B[j:])\n",
        "      k = k + (n-j)\n",
        "    elif j == n:\n",
        "      C.extend(A[i:])\n",
        "      k = k + (m-i)\n",
        "    elif A[i] < B[j]:\n",
        "      C.append(A[i])\n",
        "      (i, k) = (i+1, k+1)\n",
        "    else:\n",
        "      C.append(B[j])\n",
        "      (j, k) = (j+1, k+1)\n",
        "  return C"
      ],
      "metadata": {
        "id": "t16JnkusTJZ3"
      },
      "execution_count": null,
      "outputs": []
    },
    {
      "cell_type": "code",
      "source": [
        "def mergesort(A):\n",
        "  n = len(A)\n",
        "\n",
        "  if n <= 1:\n",
        "    return A\n",
        "  \n",
        "  L = mergesort(A[:n//2])\n",
        "  R = mergesort(A[n//2:])\n",
        "\n",
        "  B = merge(L, R)\n",
        "\n",
        "  return B"
      ],
      "metadata": {
        "id": "u8KoDR8VUN3Q"
      },
      "execution_count": null,
      "outputs": []
    },
    {
      "cell_type": "code",
      "source": [
        "mergesort([5, 1, 2, 4, 6363, 1324, 345])"
      ],
      "metadata": {
        "colab": {
          "base_uri": "https://localhost:8080/"
        },
        "id": "W8NfyIrpUnVy",
        "outputId": "b0c454a5-bb98-4e87-bc91-e581a969a18e"
      },
      "execution_count": null,
      "outputs": [
        {
          "output_type": "execute_result",
          "data": {
            "text/plain": [
              "[1, 2, 4, 5, 345, 1324, 6363]"
            ]
          },
          "metadata": {},
          "execution_count": 23
        }
      ]
    },
    {
      "cell_type": "code",
      "source": [
        "B = [0 for i in range(10)]\n",
        "print(B)"
      ],
      "metadata": {
        "colab": {
          "base_uri": "https://localhost:8080/"
        },
        "id": "uOSkTdXednf4",
        "outputId": "92391251-d64d-4653-e326-6b60b609e132"
      },
      "execution_count": null,
      "outputs": [
        {
          "output_type": "stream",
          "name": "stdout",
          "text": [
            "[0, 0, 0, 0, 0, 0, 0, 0, 0, 0]\n"
          ]
        }
      ]
    },
    {
      "cell_type": "markdown",
      "source": [
        "# L2.9"
      ],
      "metadata": {
        "id": "-0WtU0g0VCit"
      }
    },
    {
      "cell_type": "markdown",
      "source": [
        "## From Implementaiton codes"
      ],
      "metadata": {
        "id": "ZK_Pg8i1VEX4"
      }
    },
    {
      "cell_type": "code",
      "execution_count": null,
      "metadata": {
        "id": "0AEtff4sMaL0"
      },
      "outputs": [],
      "source": [
        "# Timer Class\n",
        "import time\n",
        "\n",
        "class TimerError(Exception):\n",
        "  \"\"\"A custom exception used to report errors in Timer Class\"\"\" # This is the documentation of the class/error\n",
        "\n",
        "class Timer:\n",
        "  def __init__(self):\n",
        "    self.startTime = None\n",
        "    self.elapsedTime = None\n",
        "\n",
        "  def start(self):\n",
        "    \"\"\"Start a new timer\"\"\" # Can see this documentation when hovering over the function\n",
        "    if self.startTime is not None:\n",
        "      raise TimerError(\"Timer is running. Use .stop()\")\n",
        "    self.startTime = time.perf_counter()\n",
        "\n",
        "  def stop(self):\n",
        "    \"\"\"Save the elapsed time and re-initialize timer\"\"\"\n",
        "    if self.startTime is None:\n",
        "      raise TimerError(\"Timer is not running. Use .start()\")\n",
        "    self.elapsedTime = time.perf_counter() - self.startTime\n",
        "    self.startTime = None\n",
        "\n",
        "  def elapsed(self):\n",
        "    \"\"\"Report elapsed time\"\"\"\n",
        "    if self.elapsedTime is None:\n",
        "      raise TimerError(\"Timer has not been run yet. Use .start()\")\n",
        "    return self.elapsedTime\n",
        "\n",
        "  def __str__(self):\n",
        "    \"\"\"print() prints elapsed time\"\"\"\n",
        "    return str(self.elapsedTime)"
      ]
    },
    {
      "cell_type": "markdown",
      "source": [
        "## Checking correctness on inputs [0, 2, ..., 50]\n",
        "- On Naive Search\n",
        "- On Binary Search"
      ],
      "metadata": {
        "id": "s7jBC_xpT19z"
      }
    },
    {
      "cell_type": "code",
      "source": [
        "l = list(range(0, 51, 2)) # List of all even numbers till 50\n",
        "\n",
        "for i in range(51):\n",
        "  print((i, naiveSearch(i, l)), end=\",\")\n",
        "print()\n",
        "\n",
        "for i in range(51):\n",
        "  print((i, binarysearch(i, l)), end=\",\")\n",
        "print()"
      ],
      "metadata": {
        "colab": {
          "base_uri": "https://localhost:8080/"
        },
        "id": "2WEYaioAT1JC",
        "outputId": "4dc8f618-f8d0-4f1e-ed13-6b2539c8ec88"
      },
      "execution_count": null,
      "outputs": [
        {
          "output_type": "stream",
          "name": "stdout",
          "text": [
            "(0, True),(1, False),(2, True),(3, False),(4, True),(5, False),(6, True),(7, False),(8, True),(9, False),(10, True),(11, False),(12, True),(13, False),(14, True),(15, False),(16, True),(17, False),(18, True),(19, False),(20, True),(21, False),(22, True),(23, False),(24, True),(25, False),(26, True),(27, False),(28, True),(29, False),(30, True),(31, False),(32, True),(33, False),(34, True),(35, False),(36, True),(37, False),(38, True),(39, False),(40, True),(41, False),(42, True),(43, False),(44, True),(45, False),(46, True),(47, False),(48, True),(49, False),(50, True),\n",
            "(0, True),(1, False),(2, True),(3, False),(4, True),(5, False),(6, True),(7, False),(8, True),(9, False),(10, True),(11, False),(12, True),(13, False),(14, True),(15, False),(16, True),(17, False),(18, True),(19, False),(20, True),(21, False),(22, True),(23, False),(24, True),(25, False),(26, True),(27, False),(28, True),(29, False),(30, True),(31, False),(32, True),(33, False),(34, True),(35, False),(36, True),(37, False),(38, True),(39, False),(40, True),(41, False),(42, True),(43, False),(44, True),(45, False),(46, True),(47, False),(48, True),(49, False),(50, True),\n"
          ]
        }
      ]
    },
    {
      "cell_type": "markdown",
      "source": [
        "### Performance comparision across $10^4$ worst case searches in a list of size $10^5$\n",
        "- Lookin for odd numbers in a list of even numbers"
      ],
      "metadata": {
        "id": "Z5N3SppeVi4S"
      }
    },
    {
      "cell_type": "code",
      "source": [
        "l = list(range(0, 100000, 2))\n",
        "t = Timer()\n",
        "t.start()\n",
        "for i in range(3001, 13000, 2):\n",
        "  v = naiveSearch(i, l)\n",
        "t.stop()\n",
        "print()\n",
        "print(\"Naive Search\", t)\n",
        "t.start()\n",
        "for i in range(3001, 13000, 2):\n",
        "  v = binarysearch(i, l)\n",
        "t.stop()\n",
        "print()\n",
        "print(\"Binary Search\", t)"
      ],
      "metadata": {
        "colab": {
          "base_uri": "https://localhost:8080/"
        },
        "id": "HJtdPkY-VvWr",
        "outputId": "2a094296-691e-4f25-ff91-0cb64cb27232"
      },
      "execution_count": null,
      "outputs": [
        {
          "output_type": "stream",
          "name": "stdout",
          "text": [
            "\n",
            "Naive Search 10.204791397000008\n",
            "\n",
            "Binary Search 0.8578391390000206\n"
          ]
        }
      ]
    },
    {
      "cell_type": "markdown",
      "source": [
        "### Selection Sort performance is almost same for all inputs"
      ],
      "metadata": {
        "id": "n-nTtUGeW1ud"
      }
    },
    {
      "cell_type": "code",
      "source": [
        "import random\n",
        "random.seed(2021)\n",
        "inputlists = {}\n",
        "inputlists[\"random\"] = [random.randrange(100000) for i in range(5000)]\n",
        "inputlists[\"ascending\"] = [i for i in range(5000)]\n",
        "inputlists[\"descending\"] = [i for i in range(4999, -1, -1)]\n",
        "t = Timer()\n",
        "for k in inputlists.keys():\n",
        "  tmplist = inputlists[k][:]\n",
        "  t.start()\n",
        "  SelectionSort(tmplist)\n",
        "  t.stop()\n",
        "  print(k, t)"
      ],
      "metadata": {
        "colab": {
          "base_uri": "https://localhost:8080/"
        },
        "id": "KOz3ymsbW7Pr",
        "outputId": "45afe69d-7929-4b93-f41e-ae99c8ab7754"
      },
      "execution_count": null,
      "outputs": [
        {
          "output_type": "stream",
          "name": "stdout",
          "text": [
            "random 1.0777552320000723\n",
            "ascending 1.083097649000024\n",
            "descending 1.1612359850000757\n"
          ]
        }
      ]
    },
    {
      "cell_type": "markdown",
      "source": [
        "## Insertion Sort Performance\n",
        "- On already sorted array, performance is very good\n",
        "- On reverse sorted array, performance is worse than Selection Sort"
      ],
      "metadata": {
        "id": "W4Z0u--MYJKB"
      }
    },
    {
      "cell_type": "markdown",
      "source": [
        "### Iterative Insertion Sort"
      ],
      "metadata": {
        "id": "D7OJR00dYVg5"
      }
    },
    {
      "cell_type": "code",
      "source": [
        "import random\n",
        "random.seed(2021)\n",
        "inputlists = {}\n",
        "inputlists[\"random\"] = [random.randrange(100000) for i in range(5000)]\n",
        "inputlists[\"ascending\"] = [i for i in range(5000)]\n",
        "inputlists[\"descending\"] = [i for i in range(4999, -1, -1)]\n",
        "t = Timer()\n",
        "for k in inputlists.keys():\n",
        "  tmplist = inputlists[k][:]\n",
        "  t.start()\n",
        "  insertionSort(tmplist)\n",
        "  t.stop()\n",
        "  print(k, t)"
      ],
      "metadata": {
        "colab": {
          "base_uri": "https://localhost:8080/"
        },
        "id": "D6DEuXStYMP9",
        "outputId": "a7d022e1-99a0-4125-b96e-36111bc8478d"
      },
      "execution_count": null,
      "outputs": [
        {
          "output_type": "stream",
          "name": "stdout",
          "text": [
            "random 2.110777300999871\n",
            "ascending 0.0008003409998309508\n",
            "descending 4.211437185999785\n"
          ]
        }
      ]
    },
    {
      "cell_type": "markdown",
      "source": [
        "### Recursive Insertion Sort"
      ],
      "metadata": {
        "id": "PHvNRsCcZPE0"
      }
    },
    {
      "cell_type": "markdown",
      "source": [
        "#### Setup\n",
        "- Set recursion limit to maxint, $2^{31} - 1$\n",
        "  - This is the highest value Python allows"
      ],
      "metadata": {
        "id": "DmNM2VrdZUAf"
      }
    },
    {
      "cell_type": "code",
      "source": [
        "import sys\n",
        "sys.setrecursionlimit(2**31-1)"
      ],
      "metadata": {
        "id": "AJaAkzcmZvLg"
      },
      "execution_count": null,
      "outputs": []
    },
    {
      "cell_type": "markdown",
      "source": [
        "#### Recursive insertion sort is slower than iterative\n",
        "- Input of 2000(40% of previous example) takes more time than 5000 for iterative\n",
        "  - Overhead of recursive calls\n",
        "- Performance pattern between unsorted, sorted and random is similar"
      ],
      "metadata": {
        "id": "MMghInWxZ53U"
      }
    },
    {
      "cell_type": "code",
      "source": [
        "import random\n",
        "random.seed(2021)\n",
        "inputlists = {}\n",
        "inputlists[\"random\"] = [random.randrange(100000) for i in range(2000)]\n",
        "inputlists[\"ascending\"] = [i for i in range(2000)]\n",
        "inputlists[\"descending\"] = [i for i in range(1999, -1, -1)]\n",
        "t = Timer()\n",
        "for k in inputlists.keys():\n",
        "  tmplist = inputlists[k][:]\n",
        "  t.start()\n",
        "  ISort(tmplist)\n",
        "  t.stop()\n",
        "  print(k, t)"
      ],
      "metadata": {
        "colab": {
          "base_uri": "https://localhost:8080/"
        },
        "id": "DXFQK2pjaTdc",
        "outputId": "d88cb928-f253-4f9c-e8a8-473b9f1bad84"
      },
      "execution_count": null,
      "outputs": [
        {
          "output_type": "stream",
          "name": "stdout",
          "text": [
            "random 11.998254903000088\n",
            "ascending 0.030715391000057934\n",
            "descending 20.49812900699999\n"
          ]
        }
      ]
    },
    {
      "cell_type": "markdown",
      "source": [
        "### Merge Sort Performance"
      ],
      "metadata": {
        "id": "E1mt9Wtgby9i"
      }
    },
    {
      "cell_type": "markdown",
      "source": [
        "#### A simple input check correctness"
      ],
      "metadata": {
        "id": "PZeUHjuPb3uM"
      }
    },
    {
      "cell_type": "code",
      "source": [
        "mergesort([i for i in range(0, 100, 2)] + [j for j in range(1, 1000, 2)])"
      ],
      "metadata": {
        "id": "CuQshxsdb7oC"
      },
      "execution_count": null,
      "outputs": []
    },
    {
      "cell_type": "markdown",
      "source": [
        "#### Performance on large inputs, $10^6$, random and sorted"
      ],
      "metadata": {
        "id": "rD1d7CevcN9V"
      }
    },
    {
      "cell_type": "code",
      "source": [
        "import random\n",
        "random.seed(2021)\n",
        "inputlists = {}\n",
        "inputlists[\"random\"] = [random.randrange(100000000) for i in range(1000000)]\n",
        "inputlists[\"ascending\"] = [i for i in range(1000000)]\n",
        "inputlists[\"descending\"] = [i for i in range(999999, -1, -1)]\n",
        "t = Timer()\n",
        "for k in inputlists.keys():\n",
        "  tmplist = inputlists[k][:]\n",
        "  t.start()\n",
        "  mergesort(tmplist)\n",
        "  t.stop()\n",
        "  print(k, t)"
      ],
      "metadata": {
        "colab": {
          "base_uri": "https://localhost:8080/"
        },
        "id": "SEGvlzKicV__",
        "outputId": "d3d3c9a0-eaf1-4b80-fa7b-145fb087192b"
      },
      "execution_count": null,
      "outputs": [
        {
          "output_type": "stream",
          "name": "stdout",
          "text": [
            "random 9.275198248999914\n",
            "ascending 4.92065570099976\n",
            "descending 5.012227721999807\n"
          ]
        }
      ]
    },
    {
      "cell_type": "code",
      "source": [
        "def sortInRange(L, r):\n",
        "    d = {}\n",
        "    for i in range(r):\n",
        "        d[i] = 0\n",
        "    # print(d)\n",
        "    for i in range(len(L)):\n",
        "        d[L[i]] += 1\n",
        "    # print(d)\n",
        "    L = []\n",
        "    for key in d:\n",
        "        if d[key] != 0:\n",
        "            temp_list = []\n",
        "            temp_list = [key] * d[key]\n",
        "            # print(temp_list)\n",
        "            L.extend(temp_list)\n",
        "    \n",
        "    return L"
      ],
      "metadata": {
        "id": "orhK4xEZFsuI"
      },
      "execution_count": null,
      "outputs": []
    },
    {
      "cell_type": "code",
      "source": [
        "L = list(map(int,input().split()))\n",
        "r = int(input())\n",
        "sortInRange(L, r)"
      ],
      "metadata": {
        "colab": {
          "base_uri": "https://localhost:8080/"
        },
        "id": "zgAV-CacFv5Z",
        "outputId": "5f3316a1-2e87-416f-b29c-268ce5370087"
      },
      "execution_count": null,
      "outputs": [
        {
          "name": "stdout",
          "output_type": "stream",
          "text": [
            "2 0 1 1 2 3 0 2 1 0 2 3 1 2\n",
            "4\n"
          ]
        },
        {
          "output_type": "execute_result",
          "data": {
            "text/plain": [
              "[0, 0, 0, 1, 1, 1, 1, 2, 2, 2, 2, 2, 3, 3]"
            ]
          },
          "metadata": {},
          "execution_count": 62
        }
      ]
    },
    {
      "cell_type": "code",
      "source": [
        "def insertionSort(L):\n",
        "  n = len(L)\n",
        "  if n < 1:\n",
        "    return L\n",
        "  for i in range(n):\n",
        "    # Assume L[:i] is sorted\n",
        "    # Move L[i] to correct position in L[:i]\n",
        "    j = i\n",
        "    while (j > 0 and L[j] < L[j-1]):\n",
        "      (L[j], L[j-1]) = (L[j-1], L[j])\n",
        "      j = j-1\n",
        "    # Now L[:i+1] is sorted\n",
        "  return L"
      ],
      "metadata": {
        "id": "hysiPwblKuMM"
      },
      "execution_count": null,
      "outputs": []
    },
    {
      "cell_type": "code",
      "source": [
        "def sortInRange(L, r):\n",
        "  n = len(L)\n",
        "  if n < 1:\n",
        "    return L\n",
        "  # pointer = 0\n",
        "  for i in range(n):\n",
        "    \n"
      ],
      "metadata": {
        "id": "hjioPKUaKvTF"
      },
      "execution_count": null,
      "outputs": []
    }
  ]
}